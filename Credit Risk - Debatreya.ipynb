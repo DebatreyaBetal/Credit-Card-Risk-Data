{
 "cells": [
  {
   "cell_type": "markdown",
   "id": "9be42c8b-9ee8-4df4-8578-52af3bff0d69",
   "metadata": {},
   "source": [
    "# Loan credit risk classification case study\n",
    "\n",
    "This case study is based on a dataset in Machine Learning. The German Credit Risk dataset. The goal is to predict if this loan credit would be a risk to the bank or not?\n",
    "\n",
    "## Reading the data into python"
   ]
  },
  {
   "cell_type": "code",
   "execution_count": 2,
   "id": "52655c60",
   "metadata": {
    "tags": []
   },
   "outputs": [],
   "source": [
    "import pandas as pd\n",
    "import numpy as np\n",
    "import matplotlib.pyplot as plt\n",
    "import seaborn as sns"
   ]
  },
  {
   "cell_type": "code",
   "execution_count": 3,
   "id": "29c41874",
   "metadata": {},
   "outputs": [],
   "source": [
    "df=pd.read_csv(r\"C:\\Users\\Pulakesh\\Python By Farukh\\IVY Python ML Mar-2023\\Python Datasets\\Classification Datasets\\CreditRiskData.csv\")"
   ]
  },
  {
   "cell_type": "code",
   "execution_count": 4,
   "id": "5d055d3d",
   "metadata": {},
   "outputs": [
    {
     "data": {
      "text/html": [
       "<div>\n",
       "<style scoped>\n",
       "    .dataframe tbody tr th:only-of-type {\n",
       "        vertical-align: middle;\n",
       "    }\n",
       "\n",
       "    .dataframe tbody tr th {\n",
       "        vertical-align: top;\n",
       "    }\n",
       "\n",
       "    .dataframe thead th {\n",
       "        text-align: right;\n",
       "    }\n",
       "</style>\n",
       "<table border=\"1\" class=\"dataframe\">\n",
       "  <thead>\n",
       "    <tr style=\"text-align: right;\">\n",
       "      <th></th>\n",
       "      <th>GoodCredit</th>\n",
       "      <th>checkingstatus1</th>\n",
       "      <th>duration2</th>\n",
       "      <th>history3</th>\n",
       "      <th>purpose4</th>\n",
       "      <th>amount5</th>\n",
       "      <th>savings6</th>\n",
       "      <th>employ7</th>\n",
       "      <th>installment8</th>\n",
       "      <th>status9</th>\n",
       "      <th>...</th>\n",
       "      <th>residence11</th>\n",
       "      <th>property12</th>\n",
       "      <th>age13</th>\n",
       "      <th>otherplans14</th>\n",
       "      <th>housing15</th>\n",
       "      <th>cards16</th>\n",
       "      <th>job17</th>\n",
       "      <th>liable18</th>\n",
       "      <th>tele19</th>\n",
       "      <th>foreign20</th>\n",
       "    </tr>\n",
       "  </thead>\n",
       "  <tbody>\n",
       "    <tr>\n",
       "      <th>0</th>\n",
       "      <td>0</td>\n",
       "      <td>A11</td>\n",
       "      <td>6</td>\n",
       "      <td>A34</td>\n",
       "      <td>A43</td>\n",
       "      <td>1169</td>\n",
       "      <td>A65</td>\n",
       "      <td>A75</td>\n",
       "      <td>4</td>\n",
       "      <td>A93</td>\n",
       "      <td>...</td>\n",
       "      <td>4</td>\n",
       "      <td>A121</td>\n",
       "      <td>67</td>\n",
       "      <td>A143</td>\n",
       "      <td>A152</td>\n",
       "      <td>2</td>\n",
       "      <td>A173</td>\n",
       "      <td>1</td>\n",
       "      <td>A192</td>\n",
       "      <td>A201</td>\n",
       "    </tr>\n",
       "    <tr>\n",
       "      <th>1</th>\n",
       "      <td>1</td>\n",
       "      <td>A12</td>\n",
       "      <td>48</td>\n",
       "      <td>A32</td>\n",
       "      <td>A43</td>\n",
       "      <td>5951</td>\n",
       "      <td>A61</td>\n",
       "      <td>A73</td>\n",
       "      <td>2</td>\n",
       "      <td>A92</td>\n",
       "      <td>...</td>\n",
       "      <td>2</td>\n",
       "      <td>A121</td>\n",
       "      <td>22</td>\n",
       "      <td>A143</td>\n",
       "      <td>A152</td>\n",
       "      <td>1</td>\n",
       "      <td>A173</td>\n",
       "      <td>1</td>\n",
       "      <td>A191</td>\n",
       "      <td>A201</td>\n",
       "    </tr>\n",
       "    <tr>\n",
       "      <th>2</th>\n",
       "      <td>0</td>\n",
       "      <td>A14</td>\n",
       "      <td>12</td>\n",
       "      <td>A34</td>\n",
       "      <td>A46</td>\n",
       "      <td>2096</td>\n",
       "      <td>A61</td>\n",
       "      <td>A74</td>\n",
       "      <td>2</td>\n",
       "      <td>A93</td>\n",
       "      <td>...</td>\n",
       "      <td>3</td>\n",
       "      <td>A121</td>\n",
       "      <td>49</td>\n",
       "      <td>A143</td>\n",
       "      <td>A152</td>\n",
       "      <td>1</td>\n",
       "      <td>A172</td>\n",
       "      <td>2</td>\n",
       "      <td>A191</td>\n",
       "      <td>A201</td>\n",
       "    </tr>\n",
       "    <tr>\n",
       "      <th>3</th>\n",
       "      <td>0</td>\n",
       "      <td>A11</td>\n",
       "      <td>42</td>\n",
       "      <td>A32</td>\n",
       "      <td>A42</td>\n",
       "      <td>7882</td>\n",
       "      <td>A61</td>\n",
       "      <td>A74</td>\n",
       "      <td>2</td>\n",
       "      <td>A93</td>\n",
       "      <td>...</td>\n",
       "      <td>4</td>\n",
       "      <td>A122</td>\n",
       "      <td>45</td>\n",
       "      <td>A143</td>\n",
       "      <td>A153</td>\n",
       "      <td>1</td>\n",
       "      <td>A173</td>\n",
       "      <td>2</td>\n",
       "      <td>A191</td>\n",
       "      <td>A201</td>\n",
       "    </tr>\n",
       "    <tr>\n",
       "      <th>4</th>\n",
       "      <td>1</td>\n",
       "      <td>A11</td>\n",
       "      <td>24</td>\n",
       "      <td>A33</td>\n",
       "      <td>A40</td>\n",
       "      <td>4870</td>\n",
       "      <td>A61</td>\n",
       "      <td>A73</td>\n",
       "      <td>3</td>\n",
       "      <td>A93</td>\n",
       "      <td>...</td>\n",
       "      <td>4</td>\n",
       "      <td>A124</td>\n",
       "      <td>53</td>\n",
       "      <td>A143</td>\n",
       "      <td>A153</td>\n",
       "      <td>2</td>\n",
       "      <td>A173</td>\n",
       "      <td>2</td>\n",
       "      <td>A191</td>\n",
       "      <td>A201</td>\n",
       "    </tr>\n",
       "  </tbody>\n",
       "</table>\n",
       "<p>5 rows × 21 columns</p>\n",
       "</div>"
      ],
      "text/plain": [
       "   GoodCredit checkingstatus1  duration2 history3 purpose4  amount5 savings6  \\\n",
       "0           0             A11          6      A34      A43     1169      A65   \n",
       "1           1             A12         48      A32      A43     5951      A61   \n",
       "2           0             A14         12      A34      A46     2096      A61   \n",
       "3           0             A11         42      A32      A42     7882      A61   \n",
       "4           1             A11         24      A33      A40     4870      A61   \n",
       "\n",
       "  employ7  installment8 status9  ... residence11  property12 age13  \\\n",
       "0     A75             4     A93  ...           4        A121    67   \n",
       "1     A73             2     A92  ...           2        A121    22   \n",
       "2     A74             2     A93  ...           3        A121    49   \n",
       "3     A74             2     A93  ...           4        A122    45   \n",
       "4     A73             3     A93  ...           4        A124    53   \n",
       "\n",
       "   otherplans14 housing15 cards16  job17 liable18  tele19 foreign20  \n",
       "0          A143      A152       2   A173        1    A192      A201  \n",
       "1          A143      A152       1   A173        1    A191      A201  \n",
       "2          A143      A152       1   A172        2    A191      A201  \n",
       "3          A143      A153       1   A173        2    A191      A201  \n",
       "4          A143      A153       2   A173        2    A191      A201  \n",
       "\n",
       "[5 rows x 21 columns]"
      ]
     },
     "execution_count": 4,
     "metadata": {},
     "output_type": "execute_result"
    }
   ],
   "source": [
    "df.head(5)"
   ]
  },
  {
   "cell_type": "markdown",
   "id": "c99334c8-c53f-4881-847f-129bf59a2451",
   "metadata": {},
   "source": [
    "* Here our Target variable is GoodCredit and rest of all are my Predictors"
   ]
  },
  {
   "cell_type": "markdown",
   "id": "8dbc58c3-193d-40fa-81f1-0e8cf3ed8c9d",
   "metadata": {},
   "source": [
    "## Basic Data Exploration"
   ]
  },
  {
   "cell_type": "code",
   "execution_count": 5,
   "id": "9d514fbf",
   "metadata": {},
   "outputs": [
    {
     "data": {
      "text/html": [
       "<div>\n",
       "<style scoped>\n",
       "    .dataframe tbody tr th:only-of-type {\n",
       "        vertical-align: middle;\n",
       "    }\n",
       "\n",
       "    .dataframe tbody tr th {\n",
       "        vertical-align: top;\n",
       "    }\n",
       "\n",
       "    .dataframe thead th {\n",
       "        text-align: right;\n",
       "    }\n",
       "</style>\n",
       "<table border=\"1\" class=\"dataframe\">\n",
       "  <thead>\n",
       "    <tr style=\"text-align: right;\">\n",
       "      <th></th>\n",
       "      <th>GoodCredit</th>\n",
       "      <th>duration2</th>\n",
       "      <th>amount5</th>\n",
       "      <th>installment8</th>\n",
       "      <th>residence11</th>\n",
       "      <th>age13</th>\n",
       "      <th>cards16</th>\n",
       "      <th>liable18</th>\n",
       "    </tr>\n",
       "  </thead>\n",
       "  <tbody>\n",
       "    <tr>\n",
       "      <th>count</th>\n",
       "      <td>1000.000000</td>\n",
       "      <td>1000.000000</td>\n",
       "      <td>1000.000000</td>\n",
       "      <td>1000.000000</td>\n",
       "      <td>1000.000000</td>\n",
       "      <td>1000.000000</td>\n",
       "      <td>1000.000000</td>\n",
       "      <td>1000.000000</td>\n",
       "    </tr>\n",
       "    <tr>\n",
       "      <th>mean</th>\n",
       "      <td>0.300000</td>\n",
       "      <td>20.903000</td>\n",
       "      <td>3271.258000</td>\n",
       "      <td>2.973000</td>\n",
       "      <td>2.845000</td>\n",
       "      <td>35.546000</td>\n",
       "      <td>1.407000</td>\n",
       "      <td>1.155000</td>\n",
       "    </tr>\n",
       "    <tr>\n",
       "      <th>std</th>\n",
       "      <td>0.458487</td>\n",
       "      <td>12.058814</td>\n",
       "      <td>2822.736876</td>\n",
       "      <td>1.118715</td>\n",
       "      <td>1.103718</td>\n",
       "      <td>11.375469</td>\n",
       "      <td>0.577654</td>\n",
       "      <td>0.362086</td>\n",
       "    </tr>\n",
       "    <tr>\n",
       "      <th>min</th>\n",
       "      <td>0.000000</td>\n",
       "      <td>4.000000</td>\n",
       "      <td>250.000000</td>\n",
       "      <td>1.000000</td>\n",
       "      <td>1.000000</td>\n",
       "      <td>19.000000</td>\n",
       "      <td>1.000000</td>\n",
       "      <td>1.000000</td>\n",
       "    </tr>\n",
       "    <tr>\n",
       "      <th>25%</th>\n",
       "      <td>0.000000</td>\n",
       "      <td>12.000000</td>\n",
       "      <td>1365.500000</td>\n",
       "      <td>2.000000</td>\n",
       "      <td>2.000000</td>\n",
       "      <td>27.000000</td>\n",
       "      <td>1.000000</td>\n",
       "      <td>1.000000</td>\n",
       "    </tr>\n",
       "    <tr>\n",
       "      <th>50%</th>\n",
       "      <td>0.000000</td>\n",
       "      <td>18.000000</td>\n",
       "      <td>2319.500000</td>\n",
       "      <td>3.000000</td>\n",
       "      <td>3.000000</td>\n",
       "      <td>33.000000</td>\n",
       "      <td>1.000000</td>\n",
       "      <td>1.000000</td>\n",
       "    </tr>\n",
       "    <tr>\n",
       "      <th>75%</th>\n",
       "      <td>1.000000</td>\n",
       "      <td>24.000000</td>\n",
       "      <td>3972.250000</td>\n",
       "      <td>4.000000</td>\n",
       "      <td>4.000000</td>\n",
       "      <td>42.000000</td>\n",
       "      <td>2.000000</td>\n",
       "      <td>1.000000</td>\n",
       "    </tr>\n",
       "    <tr>\n",
       "      <th>max</th>\n",
       "      <td>1.000000</td>\n",
       "      <td>72.000000</td>\n",
       "      <td>18424.000000</td>\n",
       "      <td>4.000000</td>\n",
       "      <td>4.000000</td>\n",
       "      <td>75.000000</td>\n",
       "      <td>4.000000</td>\n",
       "      <td>2.000000</td>\n",
       "    </tr>\n",
       "  </tbody>\n",
       "</table>\n",
       "</div>"
      ],
      "text/plain": [
       "        GoodCredit    duration2       amount5  installment8  residence11  \\\n",
       "count  1000.000000  1000.000000   1000.000000   1000.000000  1000.000000   \n",
       "mean      0.300000    20.903000   3271.258000      2.973000     2.845000   \n",
       "std       0.458487    12.058814   2822.736876      1.118715     1.103718   \n",
       "min       0.000000     4.000000    250.000000      1.000000     1.000000   \n",
       "25%       0.000000    12.000000   1365.500000      2.000000     2.000000   \n",
       "50%       0.000000    18.000000   2319.500000      3.000000     3.000000   \n",
       "75%       1.000000    24.000000   3972.250000      4.000000     4.000000   \n",
       "max       1.000000    72.000000  18424.000000      4.000000     4.000000   \n",
       "\n",
       "             age13      cards16     liable18  \n",
       "count  1000.000000  1000.000000  1000.000000  \n",
       "mean     35.546000     1.407000     1.155000  \n",
       "std      11.375469     0.577654     0.362086  \n",
       "min      19.000000     1.000000     1.000000  \n",
       "25%      27.000000     1.000000     1.000000  \n",
       "50%      33.000000     1.000000     1.000000  \n",
       "75%      42.000000     2.000000     1.000000  \n",
       "max      75.000000     4.000000     2.000000  "
      ]
     },
     "execution_count": 5,
     "metadata": {},
     "output_type": "execute_result"
    }
   ],
   "source": [
    "df.describe() # This provides the descriptive statistical details of the data"
   ]
  },
  {
   "cell_type": "code",
   "execution_count": 6,
   "id": "114dc642",
   "metadata": {},
   "outputs": [
    {
     "data": {
      "text/plain": [
       "(1000, 21)"
      ]
     },
     "execution_count": 6,
     "metadata": {},
     "output_type": "execute_result"
    }
   ],
   "source": [
    "df.shape "
   ]
  },
  {
   "cell_type": "code",
   "execution_count": 7,
   "id": "d2d61ad7",
   "metadata": {},
   "outputs": [],
   "source": [
    "# Removing duplicate rows\n",
    "df=df.drop_duplicates()"
   ]
  },
  {
   "cell_type": "code",
   "execution_count": 8,
   "id": "cc7e9acc",
   "metadata": {},
   "outputs": [
    {
     "data": {
      "text/plain": [
       "(1000, 21)"
      ]
     },
     "execution_count": 8,
     "metadata": {},
     "output_type": "execute_result"
    }
   ],
   "source": [
    "#Shape After deleting duplicate values\n",
    "df.shape"
   ]
  },
  {
   "cell_type": "code",
   "execution_count": 9,
   "id": "0c07f6f6",
   "metadata": {},
   "outputs": [
    {
     "data": {
      "text/plain": [
       "GoodCredit           2\n",
       "checkingstatus1      4\n",
       "duration2           33\n",
       "history3             5\n",
       "purpose4            10\n",
       "amount5            921\n",
       "savings6             5\n",
       "employ7              5\n",
       "installment8         4\n",
       "status9              4\n",
       "others10             3\n",
       "residence11          4\n",
       "property12           4\n",
       "age13               53\n",
       "otherplans14         3\n",
       "housing15            3\n",
       "cards16              4\n",
       "job17                4\n",
       "liable18             2\n",
       "tele19               2\n",
       "foreign20            2\n",
       "dtype: int64"
      ]
     },
     "execution_count": 9,
     "metadata": {},
     "output_type": "execute_result"
    }
   ],
   "source": [
    "# This helps us to identify if a column is categorical or continuous\n",
    "# Typically if the numer of unique values are < 20 then the variable is likely to be a category otherwise continuous\n",
    "df.nunique() "
   ]
  },
  {
   "cell_type": "markdown",
   "id": "d3079acd",
   "metadata": {},
   "source": [
    "* <b>GoodCredit </b> - categorical\n",
    "* <b>checkingstatus1 </b> - categorical\n",
    "* <b>duration2 </b> - continuous\n",
    "* <b>history3 </b> - categorical\n",
    "* <b>purpose4 </b> - categorical\n",
    "* <b>amount5 </b> - continuous\n",
    "* <b>savings6 </b> - categorical\n",
    "* <b>employ7 </b> - categorical\n",
    "* <b>installment8 </b> - categorical\n",
    "* <b>status9 </b> - categorical\n",
    "* <b>others10 </b> - categorical\n",
    "* <b>residence11 </b> - categorical\n",
    "* <b>property12 </b> - categorical\n",
    "* <b>age13 </b> - continuous\n",
    "* <b>otherplans14 </b> - categorical\n",
    "* <b>housing15 </b> - categorical\n",
    "* <b>cards16 </b> - categorical\n",
    "* <b>job17 </b> - categorical\n",
    "* <b>liable18 </b> - categorical \n",
    "* <b>tele19               2 </b> - categorical\n",
    "* <b>foreign20          </b> - categorical"
   ]
  },
  {
   "cell_type": "markdown",
   "id": "ac2ce152-6818-4a77-a6e5-e7c202206b0f",
   "metadata": {},
   "source": [
    "## Looking at the distribution of Target variable"
   ]
  },
  {
   "cell_type": "code",
   "execution_count": 10,
   "id": "9c7ac95d",
   "metadata": {},
   "outputs": [
    {
     "data": {
      "text/plain": [
       "<AxesSubplot:xlabel='GoodCredit', ylabel='count'>"
      ]
     },
     "execution_count": 10,
     "metadata": {},
     "output_type": "execute_result"
    },
    {
     "data": {
      "image/png": "[encoded data removed]",
      "text/plain": [
       "<Figure size 432x288 with 1 Axes>"
      ]
     },
     "metadata": {
      "needs_background": "light"
     },
     "output_type": "display_data"
    }
   ],
   "source": [
    "sns.countplot(data=df,x='GoodCredit')"
   ]
  },
  {
   "cell_type": "markdown",
   "id": "4b7aae48-af38-4518-8b53-9d1bb2bba62c",
   "metadata": {},
   "source": [
    "## Visual Exploratory Data Analysis\n",
    "\n",
    "* Categorical variables: Bar plot\n",
    "* Continuous variables: Histogram"
   ]
  },
  {
   "cell_type": "code",
   "execution_count": 15,
   "id": "89e62e8f",
   "metadata": {},
   "outputs": [],
   "source": [
    "categorical_col=['checkingstatus1', 'history3', 'purpose4',\n",
    "       'savings6', 'employ7', 'installment8', 'status9', 'others10',\n",
    "       'residence11', 'property12','otherplans14', 'housing15',\n",
    "       'cards16', 'job17', 'liable18', 'tele19', 'foreign20']\n",
    "continuous_col=['duration2', 'age13', 'amount5' ]"
   ]
  },
  {
   "cell_type": "markdown",
   "id": "9d69cc11-8902-4193-8d22-edcfa7f4f950",
   "metadata": {},
   "source": [
    "### Visualize distribution of all the Categorical Predictor variables in the data using bar Plots"
   ]
  },
  {
   "cell_type": "code",
   "execution_count": 18,
   "id": "52cecbda",
   "metadata": {},
   "outputs": [],
   "source": [
    "# define function to plot barplot\n",
    "\n",
    "def barplotfunction(inpData,cols):\n",
    "    fig,sub= plt.subplots(nrows=6,ncols=3,figsize=(20,40))\n",
    "    sub=sub.flatten()\n",
    "    \n",
    "    for i , col in enumerate(cols):\n",
    "        sns.countplot(data=inpData,x=col,ax=sub[i])"
   ]
  },
  {
   "cell_type": "code",
   "execution_count": 19,
   "id": "1e463ecf",
   "metadata": {},
   "outputs": [
    {
     "data": {
      "image/png": "[encoded data removed]",
      "text/plain": [
       "<Figure size 1440x2880 with 18 Axes>"
      ]
     },
     "metadata": {
      "needs_background": "light"
     },
     "output_type": "display_data"
    }
   ],
   "source": [
    "barplotfunction(df,categorical_col)"
   ]
  },
  {
   "cell_type": "markdown",
   "id": "72fd1fa5-c29b-442b-88f1-4cbef919155b",
   "metadata": {},
   "source": [
    " All the categorical variables are selected with a doubt on foreign20,liable18,others10."
   ]
  },
  {
   "cell_type": "markdown",
   "id": "555edf3f-2969-401a-b6b8-72ae00c11c73",
   "metadata": {},
   "source": [
    "### Visualize distribution of all the Continuous Predictor variables in the data using histograms"
   ]
  },
  {
   "cell_type": "code",
   "execution_count": 20,
   "id": "5153ff87",
   "metadata": {},
   "outputs": [],
   "source": [
    "def histplotfunction(inpData,cols):\n",
    "    fig,sub= plt.subplots(nrows=3,ncols=1,figsize=(10,20))\n",
    "    sub=sub.flatten()\n",
    "    \n",
    "    for i , col in enumerate(cols):\n",
    "        sns.histplot(data=inpData,x=col,ax=sub[i])"
   ]
  },
  {
   "cell_type": "code",
   "execution_count": 21,
   "id": "61b2de84",
   "metadata": {},
   "outputs": [
    {
     "data": {
      "image/png": "[encoded data removed]",
      "text/plain": [
       "<Figure size 720x1440 with 3 Axes>"
      ]
     },
     "metadata": {
      "needs_background": "light"
     },
     "output_type": "display_data"
    }
   ],
   "source": [
    "histplotfunction(df,continuous_col)"
   ]
  },
  {
   "cell_type": "markdown",
   "id": "2404a8a8-9857-41ac-9ca5-94ebbff18f6a",
   "metadata": {},
   "source": [
    "## Missing values treatment\n"
   ]
  },
  {
   "cell_type": "code",
   "execution_count": 22,
   "id": "94d62bfd",
   "metadata": {},
   "outputs": [
    {
     "data": {
      "text/plain": [
       "GoodCredit         0\n",
       "checkingstatus1    0\n",
       "duration2          0\n",
       "history3           0\n",
       "purpose4           0\n",
       "amount5            0\n",
       "savings6           0\n",
       "employ7            0\n",
       "installment8       0\n",
       "status9            0\n",
       "others10           0\n",
       "residence11        0\n",
       "property12         0\n",
       "age13              0\n",
       "otherplans14       0\n",
       "housing15          0\n",
       "cards16            0\n",
       "job17              0\n",
       "liable18           0\n",
       "tele19             0\n",
       "foreign20          0\n",
       "dtype: int64"
      ]
     },
     "execution_count": 22,
     "metadata": {},
     "output_type": "execute_result"
    }
   ],
   "source": [
    "df.isnull().sum()"
   ]
  },
  {
   "cell_type": "markdown",
   "id": "0fe828a7-b86d-4ee1-9981-475139af2ebe",
   "metadata": {},
   "source": [
    "## Feature Selection \n",
    "\n",
    "To finally choose the best columns(Features) which are correlated to the Target variable.\n",
    "This can be done directly by measuring the correlation values or ANOVA/Chi-Square tests. However, it is always helpful to visualize the relation between the Target variable and each of the predictors to get a better sense of data.\n",
    "\n",
    "I have listed below the techniques used for visualizing relationship between two variables as well as measuring the strength statistically."
   ]
  },
  {
   "cell_type": "markdown",
   "id": "3240c23f-839f-457b-908c-d876256dba96",
   "metadata": {},
   "source": [
    "### Visual exploration of relationship between variables\n",
    "* Continuous Vs Continuous ---- Scatter Plot\n",
    "* Categorical Vs Continuous---- Box Plot\n",
    "* Categorical Vs Categorical---- Grouped Bar Plots\n",
    "\n",
    "### Statistical measurement of relationship strength between variables\n",
    "* Continuous Vs Continuous ---- Correlation matrix\n",
    "* Categorical Vs Continuous---- ANOVA test\n",
    "* Categorical Vs Categorical--- Chi-Square test"
   ]
  },
  {
   "cell_type": "code",
   "execution_count": 23,
   "id": "994a6876",
   "metadata": {},
   "outputs": [],
   "source": [
    "# define function to plot barplot\n",
    "\n",
    "def groupbarplotfunction(inpData,cols):\n",
    "    fig,sub= plt.subplots(nrows=6,ncols=3,figsize=(20,40))\n",
    "    sub=sub.flatten()\n",
    "    \n",
    "    for i , col in enumerate(cols):\n",
    "        sns.countplot(data=inpData,x=col,hue='GoodCredit',ax=sub[i])"
   ]
  },
  {
   "cell_type": "code",
   "execution_count": 24,
   "id": "d06b8326",
   "metadata": {},
   "outputs": [
    {
     "data": {
      "image/png": "[encoded data removed]",
      "text/plain": [
       "<Figure size 1440x2880 with 18 Axes>"
      ]
     },
     "metadata": {
      "needs_background": "light"
     },
     "output_type": "display_data"
    }
   ],
   "source": [
    "groupbarplotfunction(df,categorical_col)"
   ]
  },
  {
   "cell_type": "markdown",
   "id": "e6602fab-6a09-4e64-a41d-63cedbede1f7",
   "metadata": {},
   "source": [
    "### Statistical Feature Selection (Categorical Vs Categorical) using Chi-Square Test"
   ]
  },
  {
   "cell_type": "code",
   "execution_count": 25,
   "id": "61413e88",
   "metadata": {},
   "outputs": [],
   "source": [
    "# Writing a function to find the correlation of all categorical variables with the Target variable\n",
    "def FunctionChisq(inpData, TargetVariable, CategoricalVariablesList):\n",
    "    from scipy.stats import chi2_contingency\n",
    "    \n",
    "    # Creating an empty list of final selected predictors\n",
    "    SelectedPredictors=[]\n",
    "\n",
    "    for predictor in CategoricalVariablesList:\n",
    "        CrossTabResult=pd.crosstab(index=inpData[TargetVariable], columns=inpData[predictor])\n",
    "        ChiSqResult = chi2_contingency(CrossTabResult)\n",
    "        \n",
    "        # If the ChiSq P-Value is <0.05, that means we reject H0\n",
    "        if (ChiSqResult[1] < 0.05):\n",
    "            print(predictor, 'is correlated with', TargetVariable, '| P-Value:', ChiSqResult[1])\n",
    "            SelectedPredictors.append(predictor)\n",
    "        else:\n",
    "            print(predictor, 'is NOT correlated with', TargetVariable, '| P-Value:', ChiSqResult[1])        \n",
    "            \n",
    "    return(SelectedPredictors)"
   ]
  },
  {
   "cell_type": "code",
   "execution_count": 26,
   "id": "9c31410d",
   "metadata": {},
   "outputs": [
    {
     "name": "stdout",
     "output_type": "stream",
     "text": [
      "checkingstatus1 is correlated with GoodCredit | P-Value: 1.2189020722893755e-26\n",
      "history3 is correlated with GoodCredit | P-Value: 1.2791872956751013e-12\n",
      "purpose4 is correlated with GoodCredit | P-Value: 0.00011574910079691586\n",
      "savings6 is correlated with GoodCredit | P-Value: 2.7612142385682596e-07\n",
      "employ7 is correlated with GoodCredit | P-Value: 0.001045452349140254\n",
      "installment8 is NOT correlated with GoodCredit | P-Value: 0.1400333122128481\n",
      "status9 is correlated with GoodCredit | P-Value: 0.02223800546926877\n",
      "others10 is correlated with GoodCredit | P-Value: 0.036055954027247226\n",
      "residence11 is NOT correlated with GoodCredit | P-Value: 0.8615521320413175\n",
      "property12 is correlated with GoodCredit | P-Value: 2.8584415733250017e-05\n",
      "otherplans14 is correlated with GoodCredit | P-Value: 0.0016293178186473534\n",
      "housing15 is correlated with GoodCredit | P-Value: 0.00011167465374597684\n",
      "cards16 is NOT correlated with GoodCredit | P-Value: 0.4451440800083001\n",
      "job17 is NOT correlated with GoodCredit | P-Value: 0.5965815918843431\n",
      "liable18 is NOT correlated with GoodCredit | P-Value: 1.0\n",
      "tele19 is NOT correlated with GoodCredit | P-Value: 0.27887615430357426\n",
      "foreign20 is correlated with GoodCredit | P-Value: 0.015830754902852885\n"
     ]
    },
    {
     "data": {
      "text/plain": [
       "['checkingstatus1',\n",
       " 'history3',\n",
       " 'purpose4',\n",
       " 'savings6',\n",
       " 'employ7',\n",
       " 'status9',\n",
       " 'others10',\n",
       " 'property12',\n",
       " 'otherplans14',\n",
       " 'housing15',\n",
       " 'foreign20']"
      ]
     },
     "execution_count": 26,
     "metadata": {},
     "output_type": "execute_result"
    }
   ],
   "source": [
    "FunctionChisq(df,'GoodCredit',categorical_col)"
   ]
  },
  {
   "cell_type": "markdown",
   "id": "42660661-19c0-4a51-bed1-731ad0f90778",
   "metadata": {},
   "source": [
    "Based on the results of Chi-Square test, below categorical columns are selected as predictors for Machine Learning\n",
    "\n",
    "'checkingstatus1','history3','purpose4','savings6','employ7','status9','others10','property12','otherplans14','housing15','foreign20'"
   ]
  },
  {
   "cell_type": "code",
   "execution_count": 27,
   "id": "17dcadc3",
   "metadata": {},
   "outputs": [],
   "source": [
    "selected_cat_col= ['checkingstatus1','history3','purpose4','savings6','employ7','status9','others10','property12','otherplans14','housing15','foreign20']"
   ]
  },
  {
   "cell_type": "markdown",
   "id": "a0e04479-fdd2-4dd9-9049-b953022648d6",
   "metadata": {},
   "source": [
    "### Visual Relationship exploration: Categorical Vs Continuous -- Box Plots"
   ]
  },
  {
   "cell_type": "code",
   "execution_count": 40,
   "id": "bfb4c542",
   "metadata": {},
   "outputs": [],
   "source": [
    "def boxplotfunction(inpData,cols):\n",
    "    fig,sub= plt.subplots(nrows=3,ncols=1,figsize=(10,20))\n",
    "    sub=sub.flatten()\n",
    "    \n",
    "    for i , col in enumerate(cols):\n",
    "        sns.boxplot(data=inpData,y=col,x='GoodCredit',ax=sub[i])"
   ]
  },
  {
   "cell_type": "code",
   "execution_count": 41,
   "id": "7735b904",
   "metadata": {},
   "outputs": [
    {
     "data": {
      "image/png": "[encoded data removed]",
      "text/plain": [
       "<Figure size 720x1440 with 3 Axes>"
      ]
     },
     "metadata": {
      "needs_background": "light"
     },
     "output_type": "display_data"
    }
   ],
   "source": [
    "boxplotfunction(df,continuous_col)"
   ]
  },
  {
   "cell_type": "markdown",
   "id": "9444ed32-5061-4835-a67b-845f5160fcf0",
   "metadata": {},
   "source": [
    "### Statistical Feature Selection (Categorical Vs Continuous) using ANOVA test"
   ]
  },
  {
   "cell_type": "code",
   "execution_count": 28,
   "id": "f92b9887",
   "metadata": {},
   "outputs": [],
   "source": [
    "# Defining a function to find the statistical relationship with all the continious variables\n",
    "def FunctionAnova(inpData, TargetVariable, ContinuousPredictorList):\n",
    "    from scipy.stats import f_oneway\n",
    "\n",
    "    # Creating an empty list of final selected predictors\n",
    "    SelectedPredictors=[]\n",
    "    \n",
    "    print('##### ANOVA Results ##### \\n')\n",
    "    for predictor in ContinuousPredictorList:\n",
    "        CategoryGroupLists=inpData.groupby(TargetVariable)[predictor].apply(list)\n",
    "        AnovaResults = f_oneway(*CategoryGroupLists)\n",
    "        \n",
    "        # If the ANOVA P-Value is <0.05, that means we reject H0\n",
    "        if (AnovaResults[1] < 0.05):\n",
    "            print(predictor, 'is correlated with', TargetVariable, '| P-Value:', AnovaResults[1])\n",
    "            SelectedPredictors.append(predictor)\n",
    "        else:\n",
    "            print(predictor, 'is NOT correlated with', TargetVariable, '| P-Value:', AnovaResults[1])\n",
    "    \n",
    "    return(SelectedPredictors)"
   ]
  },
  {
   "cell_type": "code",
   "execution_count": 29,
   "id": "a7d7da50",
   "metadata": {},
   "outputs": [
    {
     "name": "stdout",
     "output_type": "stream",
     "text": [
      "##### ANOVA Results ##### \n",
      "\n",
      "duration2 is correlated with GoodCredit | P-Value: 6.488049877187189e-12\n",
      "age13 is correlated with GoodCredit | P-Value: 0.003925339398278295\n",
      "amount5 is correlated with GoodCredit | P-Value: 8.797572373533373e-07\n"
     ]
    },
    {
     "data": {
      "text/plain": [
       "['duration2', 'age13', 'amount5']"
      ]
     },
     "execution_count": 29,
     "metadata": {},
     "output_type": "execute_result"
    }
   ],
   "source": [
    "FunctionAnova(df,'GoodCredit',continuous_col)"
   ]
  },
  {
   "cell_type": "markdown",
   "id": "f61e3dd3-b386-441e-8847-f2fe824e4130",
   "metadata": {},
   "source": [
    "All three columns are correlated with GoodCredit."
   ]
  },
  {
   "cell_type": "markdown",
   "id": "ed5c1ab2-6873-4e28-9f80-a6e1ba016e31",
   "metadata": {},
   "source": [
    "### Selecting final predictors for Machine Learning"
   ]
  },
  {
   "cell_type": "code",
   "execution_count": 30,
   "id": "b3bfe78b",
   "metadata": {},
   "outputs": [],
   "source": [
    "cr_ml= pd.concat([df[continuous_col],df[selected_cat_col]],axis=1)"
   ]
  },
  {
   "cell_type": "markdown",
   "id": "0362864f-82ba-4589-9752-10c272ec4642",
   "metadata": {},
   "source": [
    "### Data Pre-processing for Machine Learning"
   ]
  },
  {
   "cell_type": "code",
   "execution_count": 33,
   "id": "eab44594",
   "metadata": {},
   "outputs": [],
   "source": [
    "#Converting the binary nominal variable to numeric using 1/0 mapping\n",
    "# replace the nominal data with numeric data\n",
    "cr_ml['foreign20'].replace({'A201':0, 'A202':1}, inplace=True)\n",
    "\n",
    "# replace ordinal  values from the data\n",
    "cr_ml['savings6'].replace({'A61':0,'A62':1,'A63':2,'A64':3,'A65':4},inplace=True)\n",
    "\n",
    "cr_ml['employ7'].replace({'A71':0,'A72':1,'A73':2,'A74':3,'A75':4},inplace=True)\n"
   ]
  },
  {
   "cell_type": "code",
   "execution_count": 39,
   "id": "7a7a3d1e",
   "metadata": {},
   "outputs": [
    {
     "data": {
      "text/html": [
       "<div>\n",
       "<style scoped>\n",
       "    .dataframe tbody tr th:only-of-type {\n",
       "        vertical-align: middle;\n",
       "    }\n",
       "\n",
       "    .dataframe tbody tr th {\n",
       "        vertical-align: top;\n",
       "    }\n",
       "\n",
       "    .dataframe thead th {\n",
       "        text-align: right;\n",
       "    }\n",
       "</style>\n",
       "<table border=\"1\" class=\"dataframe\">\n",
       "  <thead>\n",
       "    <tr style=\"text-align: right;\">\n",
       "      <th></th>\n",
       "      <th>duration2</th>\n",
       "      <th>age13</th>\n",
       "      <th>amount5</th>\n",
       "      <th>savings6</th>\n",
       "      <th>employ7</th>\n",
       "      <th>foreign20</th>\n",
       "      <th>checkingstatus1_A11</th>\n",
       "      <th>checkingstatus1_A12</th>\n",
       "      <th>checkingstatus1_A13</th>\n",
       "      <th>checkingstatus1_A14</th>\n",
       "      <th>...</th>\n",
       "      <th>property12_A122</th>\n",
       "      <th>property12_A123</th>\n",
       "      <th>property12_A124</th>\n",
       "      <th>otherplans14_A141</th>\n",
       "      <th>otherplans14_A142</th>\n",
       "      <th>otherplans14_A143</th>\n",
       "      <th>housing15_A151</th>\n",
       "      <th>housing15_A152</th>\n",
       "      <th>housing15_A153</th>\n",
       "      <th>GoodCredit</th>\n",
       "    </tr>\n",
       "  </thead>\n",
       "  <tbody>\n",
       "    <tr>\n",
       "      <th>0</th>\n",
       "      <td>6</td>\n",
       "      <td>67</td>\n",
       "      <td>1169</td>\n",
       "      <td>4</td>\n",
       "      <td>4</td>\n",
       "      <td>0</td>\n",
       "      <td>1</td>\n",
       "      <td>0</td>\n",
       "      <td>0</td>\n",
       "      <td>0</td>\n",
       "      <td>...</td>\n",
       "      <td>0</td>\n",
       "      <td>0</td>\n",
       "      <td>0</td>\n",
       "      <td>0</td>\n",
       "      <td>0</td>\n",
       "      <td>1</td>\n",
       "      <td>0</td>\n",
       "      <td>1</td>\n",
       "      <td>0</td>\n",
       "      <td>0</td>\n",
       "    </tr>\n",
       "    <tr>\n",
       "      <th>1</th>\n",
       "      <td>48</td>\n",
       "      <td>22</td>\n",
       "      <td>5951</td>\n",
       "      <td>0</td>\n",
       "      <td>2</td>\n",
       "      <td>0</td>\n",
       "      <td>0</td>\n",
       "      <td>1</td>\n",
       "      <td>0</td>\n",
       "      <td>0</td>\n",
       "      <td>...</td>\n",
       "      <td>0</td>\n",
       "      <td>0</td>\n",
       "      <td>0</td>\n",
       "      <td>0</td>\n",
       "      <td>0</td>\n",
       "      <td>1</td>\n",
       "      <td>0</td>\n",
       "      <td>1</td>\n",
       "      <td>0</td>\n",
       "      <td>1</td>\n",
       "    </tr>\n",
       "    <tr>\n",
       "      <th>2</th>\n",
       "      <td>12</td>\n",
       "      <td>49</td>\n",
       "      <td>2096</td>\n",
       "      <td>0</td>\n",
       "      <td>3</td>\n",
       "      <td>0</td>\n",
       "      <td>0</td>\n",
       "      <td>0</td>\n",
       "      <td>0</td>\n",
       "      <td>1</td>\n",
       "      <td>...</td>\n",
       "      <td>0</td>\n",
       "      <td>0</td>\n",
       "      <td>0</td>\n",
       "      <td>0</td>\n",
       "      <td>0</td>\n",
       "      <td>1</td>\n",
       "      <td>0</td>\n",
       "      <td>1</td>\n",
       "      <td>0</td>\n",
       "      <td>0</td>\n",
       "    </tr>\n",
       "    <tr>\n",
       "      <th>3</th>\n",
       "      <td>42</td>\n",
       "      <td>45</td>\n",
       "      <td>7882</td>\n",
       "      <td>0</td>\n",
       "      <td>3</td>\n",
       "      <td>0</td>\n",
       "      <td>1</td>\n",
       "      <td>0</td>\n",
       "      <td>0</td>\n",
       "      <td>0</td>\n",
       "      <td>...</td>\n",
       "      <td>1</td>\n",
       "      <td>0</td>\n",
       "      <td>0</td>\n",
       "      <td>0</td>\n",
       "      <td>0</td>\n",
       "      <td>1</td>\n",
       "      <td>0</td>\n",
       "      <td>0</td>\n",
       "      <td>1</td>\n",
       "      <td>0</td>\n",
       "    </tr>\n",
       "    <tr>\n",
       "      <th>4</th>\n",
       "      <td>24</td>\n",
       "      <td>53</td>\n",
       "      <td>4870</td>\n",
       "      <td>0</td>\n",
       "      <td>2</td>\n",
       "      <td>0</td>\n",
       "      <td>1</td>\n",
       "      <td>0</td>\n",
       "      <td>0</td>\n",
       "      <td>0</td>\n",
       "      <td>...</td>\n",
       "      <td>0</td>\n",
       "      <td>0</td>\n",
       "      <td>1</td>\n",
       "      <td>0</td>\n",
       "      <td>0</td>\n",
       "      <td>1</td>\n",
       "      <td>0</td>\n",
       "      <td>0</td>\n",
       "      <td>1</td>\n",
       "      <td>1</td>\n",
       "    </tr>\n",
       "    <tr>\n",
       "      <th>...</th>\n",
       "      <td>...</td>\n",
       "      <td>...</td>\n",
       "      <td>...</td>\n",
       "      <td>...</td>\n",
       "      <td>...</td>\n",
       "      <td>...</td>\n",
       "      <td>...</td>\n",
       "      <td>...</td>\n",
       "      <td>...</td>\n",
       "      <td>...</td>\n",
       "      <td>...</td>\n",
       "      <td>...</td>\n",
       "      <td>...</td>\n",
       "      <td>...</td>\n",
       "      <td>...</td>\n",
       "      <td>...</td>\n",
       "      <td>...</td>\n",
       "      <td>...</td>\n",
       "      <td>...</td>\n",
       "      <td>...</td>\n",
       "      <td>...</td>\n",
       "    </tr>\n",
       "    <tr>\n",
       "      <th>995</th>\n",
       "      <td>12</td>\n",
       "      <td>31</td>\n",
       "      <td>1736</td>\n",
       "      <td>0</td>\n",
       "      <td>3</td>\n",
       "      <td>0</td>\n",
       "      <td>0</td>\n",
       "      <td>0</td>\n",
       "      <td>0</td>\n",
       "      <td>1</td>\n",
       "      <td>...</td>\n",
       "      <td>0</td>\n",
       "      <td>0</td>\n",
       "      <td>0</td>\n",
       "      <td>0</td>\n",
       "      <td>0</td>\n",
       "      <td>1</td>\n",
       "      <td>0</td>\n",
       "      <td>1</td>\n",
       "      <td>0</td>\n",
       "      <td>0</td>\n",
       "    </tr>\n",
       "    <tr>\n",
       "      <th>996</th>\n",
       "      <td>30</td>\n",
       "      <td>40</td>\n",
       "      <td>3857</td>\n",
       "      <td>0</td>\n",
       "      <td>2</td>\n",
       "      <td>0</td>\n",
       "      <td>1</td>\n",
       "      <td>0</td>\n",
       "      <td>0</td>\n",
       "      <td>0</td>\n",
       "      <td>...</td>\n",
       "      <td>1</td>\n",
       "      <td>0</td>\n",
       "      <td>0</td>\n",
       "      <td>0</td>\n",
       "      <td>0</td>\n",
       "      <td>1</td>\n",
       "      <td>0</td>\n",
       "      <td>1</td>\n",
       "      <td>0</td>\n",
       "      <td>0</td>\n",
       "    </tr>\n",
       "    <tr>\n",
       "      <th>997</th>\n",
       "      <td>12</td>\n",
       "      <td>38</td>\n",
       "      <td>804</td>\n",
       "      <td>0</td>\n",
       "      <td>4</td>\n",
       "      <td>0</td>\n",
       "      <td>0</td>\n",
       "      <td>0</td>\n",
       "      <td>0</td>\n",
       "      <td>1</td>\n",
       "      <td>...</td>\n",
       "      <td>0</td>\n",
       "      <td>1</td>\n",
       "      <td>0</td>\n",
       "      <td>0</td>\n",
       "      <td>0</td>\n",
       "      <td>1</td>\n",
       "      <td>0</td>\n",
       "      <td>1</td>\n",
       "      <td>0</td>\n",
       "      <td>0</td>\n",
       "    </tr>\n",
       "    <tr>\n",
       "      <th>998</th>\n",
       "      <td>45</td>\n",
       "      <td>23</td>\n",
       "      <td>1845</td>\n",
       "      <td>0</td>\n",
       "      <td>2</td>\n",
       "      <td>0</td>\n",
       "      <td>1</td>\n",
       "      <td>0</td>\n",
       "      <td>0</td>\n",
       "      <td>0</td>\n",
       "      <td>...</td>\n",
       "      <td>0</td>\n",
       "      <td>0</td>\n",
       "      <td>1</td>\n",
       "      <td>0</td>\n",
       "      <td>0</td>\n",
       "      <td>1</td>\n",
       "      <td>0</td>\n",
       "      <td>0</td>\n",
       "      <td>1</td>\n",
       "      <td>1</td>\n",
       "    </tr>\n",
       "    <tr>\n",
       "      <th>999</th>\n",
       "      <td>45</td>\n",
       "      <td>27</td>\n",
       "      <td>4576</td>\n",
       "      <td>1</td>\n",
       "      <td>0</td>\n",
       "      <td>0</td>\n",
       "      <td>0</td>\n",
       "      <td>1</td>\n",
       "      <td>0</td>\n",
       "      <td>0</td>\n",
       "      <td>...</td>\n",
       "      <td>0</td>\n",
       "      <td>1</td>\n",
       "      <td>0</td>\n",
       "      <td>0</td>\n",
       "      <td>0</td>\n",
       "      <td>1</td>\n",
       "      <td>0</td>\n",
       "      <td>1</td>\n",
       "      <td>0</td>\n",
       "      <td>0</td>\n",
       "    </tr>\n",
       "  </tbody>\n",
       "</table>\n",
       "<p>1000 rows × 43 columns</p>\n",
       "</div>"
      ],
      "text/plain": [
       "     duration2  age13  amount5  savings6  employ7  foreign20  \\\n",
       "0            6     67     1169         4        4          0   \n",
       "1           48     22     5951         0        2          0   \n",
       "2           12     49     2096         0        3          0   \n",
       "3           42     45     7882         0        3          0   \n",
       "4           24     53     4870         0        2          0   \n",
       "..         ...    ...      ...       ...      ...        ...   \n",
       "995         12     31     1736         0        3          0   \n",
       "996         30     40     3857         0        2          0   \n",
       "997         12     38      804         0        4          0   \n",
       "998         45     23     1845         0        2          0   \n",
       "999         45     27     4576         1        0          0   \n",
       "\n",
       "     checkingstatus1_A11  checkingstatus1_A12  checkingstatus1_A13  \\\n",
       "0                      1                    0                    0   \n",
       "1                      0                    1                    0   \n",
       "2                      0                    0                    0   \n",
       "3                      1                    0                    0   \n",
       "4                      1                    0                    0   \n",
       "..                   ...                  ...                  ...   \n",
       "995                    0                    0                    0   \n",
       "996                    1                    0                    0   \n",
       "997                    0                    0                    0   \n",
       "998                    1                    0                    0   \n",
       "999                    0                    1                    0   \n",
       "\n",
       "     checkingstatus1_A14  ...  property12_A122  property12_A123  \\\n",
       "0                      0  ...                0                0   \n",
       "1                      0  ...                0                0   \n",
       "2                      1  ...                0                0   \n",
       "3                      0  ...                1                0   \n",
       "4                      0  ...                0                0   \n",
       "..                   ...  ...              ...              ...   \n",
       "995                    1  ...                0                0   \n",
       "996                    0  ...                1                0   \n",
       "997                    1  ...                0                1   \n",
       "998                    0  ...                0                0   \n",
       "999                    0  ...                0                1   \n",
       "\n",
       "     property12_A124  otherplans14_A141  otherplans14_A142  otherplans14_A143  \\\n",
       "0                  0                  0                  0                  1   \n",
       "1                  0                  0                  0                  1   \n",
       "2                  0                  0                  0                  1   \n",
       "3                  0                  0                  0                  1   \n",
       "4                  1                  0                  0                  1   \n",
       "..               ...                ...                ...                ...   \n",
       "995                0                  0                  0                  1   \n",
       "996                0                  0                  0                  1   \n",
       "997                0                  0                  0                  1   \n",
       "998                1                  0                  0                  1   \n",
       "999                0                  0                  0                  1   \n",
       "\n",
       "     housing15_A151  housing15_A152  housing15_A153  GoodCredit  \n",
       "0                 0               1               0           0  \n",
       "1                 0               1               0           1  \n",
       "2                 0               1               0           0  \n",
       "3                 0               0               1           0  \n",
       "4                 0               0               1           1  \n",
       "..              ...             ...             ...         ...  \n",
       "995               0               1               0           0  \n",
       "996               0               1               0           0  \n",
       "997               0               1               0           0  \n",
       "998               0               0               1           1  \n",
       "999               0               1               0           0  \n",
       "\n",
       "[1000 rows x 43 columns]"
      ]
     },
     "execution_count": 39,
     "metadata": {},
     "output_type": "execute_result"
    }
   ],
   "source": [
    "#Converting nominal variables to numeric using get_dummies()\n",
    "cr_ml_numeric=pd.get_dummies(cr_ml)\n",
    "\n",
    "# Adding Target Variable to the data\n",
    "cr_ml_numeric['GoodCredit']=df['GoodCredit']\n",
    "cr_ml_numeric"
   ]
  },
  {
   "cell_type": "code",
   "execution_count": 40,
   "id": "9ba6b290",
   "metadata": {},
   "outputs": [],
   "source": [
    "# Saving this final data for reference during deployment\n",
    "cr_ml_numeric.to_pickle('cr_ml_numeric.pkl')"
   ]
  },
  {
   "cell_type": "code",
   "execution_count": 41,
   "id": "6c9ede8d",
   "metadata": {},
   "outputs": [
    {
     "data": {
      "text/plain": [
       "Index(['duration2', 'age13', 'amount5', 'savings6', 'employ7', 'foreign20',\n",
       "       'checkingstatus1_A11', 'checkingstatus1_A12', 'checkingstatus1_A13',\n",
       "       'checkingstatus1_A14', 'history3_A30', 'history3_A31', 'history3_A32',\n",
       "       'history3_A33', 'history3_A34', 'purpose4_A40', 'purpose4_A41',\n",
       "       'purpose4_A410', 'purpose4_A42', 'purpose4_A43', 'purpose4_A44',\n",
       "       'purpose4_A45', 'purpose4_A46', 'purpose4_A48', 'purpose4_A49',\n",
       "       'status9_A91', 'status9_A92', 'status9_A93', 'status9_A94',\n",
       "       'others10_A101', 'others10_A102', 'others10_A103', 'property12_A121',\n",
       "       'property12_A122', 'property12_A123', 'property12_A124',\n",
       "       'otherplans14_A141', 'otherplans14_A142', 'otherplans14_A143',\n",
       "       'housing15_A151', 'housing15_A152', 'housing15_A153', 'GoodCredit'],\n",
       "      dtype='object')"
      ]
     },
     "execution_count": 41,
     "metadata": {},
     "output_type": "execute_result"
    }
   ],
   "source": [
    "cr_ml_numeric.columns"
   ]
  },
  {
   "cell_type": "code",
   "execution_count": 42,
   "id": "33b440e4",
   "metadata": {},
   "outputs": [],
   "source": [
    "# Separate Target Variable and Predictor Variables\n",
    "TargetVariable='GoodCredit'\n",
    "Predictors=['duration2', 'age13', 'amount5', 'savings6', 'employ7', 'foreign20',\n",
    "       'checkingstatus1_A11', 'checkingstatus1_A12', 'checkingstatus1_A13',\n",
    "       'checkingstatus1_A14', 'history3_A30', 'history3_A31', 'history3_A32',\n",
    "       'history3_A33', 'history3_A34', 'purpose4_A40', 'purpose4_A41',\n",
    "       'purpose4_A410', 'purpose4_A42', 'purpose4_A43', 'purpose4_A44',\n",
    "       'purpose4_A45', 'purpose4_A46', 'purpose4_A48', 'purpose4_A49',\n",
    "       'status9_A91', 'status9_A92', 'status9_A93', 'status9_A94',\n",
    "       'others10_A101', 'others10_A102', 'others10_A103', 'property12_A121',\n",
    "       'property12_A122', 'property12_A123', 'property12_A124',\n",
    "       'otherplans14_A141', 'otherplans14_A142', 'otherplans14_A143',\n",
    "       'housing15_A151', 'housing15_A152', 'housing15_A153']\n",
    "X=cr_ml_numeric[Predictors].values\n",
    "y=cr_ml_numeric[TargetVariable].values"
   ]
  },
  {
   "cell_type": "code",
   "execution_count": 43,
   "id": "7da481e9",
   "metadata": {},
   "outputs": [],
   "source": [
    "# Split the data into training and testing set\n",
    "from sklearn.model_selection import train_test_split\n",
    "X_train, X_test, y_train, y_test = train_test_split(X, y, test_size=0.2, random_state=42)\n"
   ]
  },
  {
   "cell_type": "markdown",
   "id": "d2a0451e-c386-4e77-8050-55c7ab551874",
   "metadata": {},
   "source": [
    "## Normalization of data"
   ]
  },
  {
   "cell_type": "code",
   "execution_count": 44,
   "id": "51652b1b",
   "metadata": {},
   "outputs": [],
   "source": [
    "from sklearn.preprocessing import MinMaxScaler\n",
    "\n",
    "PredictorScaler=MinMaxScaler()\n",
    "\n",
    "PredictorScalerFit=PredictorScaler.fit(X_train)\n",
    "X_train=PredictorScalerFit.transform(X_train)\n",
    "X_test=PredictorScalerFit.transform(X_test)\n"
   ]
  },
  {
   "cell_type": "code",
   "execution_count": 45,
   "id": "7b316519",
   "metadata": {},
   "outputs": [
    {
     "data": {
      "text/plain": [
       "(800, 42)"
      ]
     },
     "execution_count": 45,
     "metadata": {},
     "output_type": "execute_result"
    }
   ],
   "source": [
    "X_train.shape"
   ]
  },
  {
   "cell_type": "code",
   "execution_count": 46,
   "id": "c8bc4588",
   "metadata": {},
   "outputs": [
    {
     "data": {
      "text/plain": [
       "(800,)"
      ]
     },
     "execution_count": 46,
     "metadata": {},
     "output_type": "execute_result"
    }
   ],
   "source": [
    "y_train.shape"
   ]
  },
  {
   "cell_type": "markdown",
   "id": "5d5fa5dc-ff96-4683-8c81-74852e4ce94a",
   "metadata": {},
   "source": [
    "# Logistic Regression"
   ]
  },
  {
   "cell_type": "code",
   "execution_count": 47,
   "id": "9cb15e5c",
   "metadata": {},
   "outputs": [
    {
     "name": "stdout",
     "output_type": "stream",
     "text": [
      "              precision    recall  f1-score   support\n",
      "\n",
      "           0       0.83      0.91      0.86       141\n",
      "           1       0.71      0.54      0.62        59\n",
      "\n",
      "    accuracy                           0.80       200\n",
      "   macro avg       0.77      0.73      0.74       200\n",
      "weighted avg       0.79      0.80      0.79       200\n",
      "\n",
      "[[128  13]\n",
      " [ 27  32]]\n",
      "Accuracy of the model on Testing Sample Data: 0.79\n",
      "\n",
      "Accuracy values for 10-fold Cross Validation:\n",
      " [0.76902287 0.68       0.72238245 0.73104474 0.76028751 0.81371158\n",
      " 0.65257937 0.78407524 0.78113208 0.77519841]\n",
      "\n",
      "Final Average Accuracy of the model: 0.75\n"
     ]
    }
   ],
   "source": [
    "# Logistic Regression\n",
    "from sklearn.linear_model import LogisticRegression\n",
    "clf = LogisticRegression(C=1,penalty='l2', solver='newton-cg')\n",
    "\n",
    "LOG=clf.fit(X_train,y_train)\n",
    "prediction=LOG.predict(X_test)\n",
    "\n",
    "# Measuring accuracy on Testing Data\n",
    "from sklearn import metrics\n",
    "print(metrics.classification_report(y_test, prediction))\n",
    "print(metrics.confusion_matrix(y_test, prediction))\n",
    "\n",
    "# Printing the Overall Accuracy of the model\n",
    "F1_Score=metrics.f1_score(y_test, prediction, average='weighted')\n",
    "print('Accuracy of the model on Testing Sample Data:', round(F1_Score,2))\n",
    "\n",
    "# Importing cross validation function from sklearn\n",
    "from sklearn.model_selection import cross_val_score\n",
    "\n",
    "# Running 10-Fold Cross validation on a given algorithmd\n",
    "# Passing full data X and y because the K-fold will split the data and automatically choose train/test\n",
    "Accuracy_Values=cross_val_score(LOG, X , y, cv=10, scoring='f1_weighted')\n",
    "print('\\nAccuracy values for 10-fold Cross Validation:\\n',Accuracy_Values)\n",
    "print('\\nFinal Average Accuracy of the model:', round(Accuracy_Values.mean(),2))"
   ]
  },
  {
   "cell_type": "markdown",
   "id": "32de579c-dcd8-4981-b0e6-3cb2b69ce4c8",
   "metadata": {},
   "source": [
    "# Decision Trees"
   ]
  },
  {
   "cell_type": "code",
   "execution_count": 48,
   "id": "02a5081b",
   "metadata": {},
   "outputs": [
    {
     "name": "stdout",
     "output_type": "stream",
     "text": [
      "DecisionTreeClassifier(max_depth=6)\n"
     ]
    }
   ],
   "source": [
    "# DEcision Tree\n",
    "from sklearn import tree\n",
    "\n",
    "model=tree.DecisionTreeClassifier( criterion='gini', max_depth=6)\n",
    "print(model)"
   ]
  },
  {
   "cell_type": "code",
   "execution_count": 49,
   "id": "26ce254a",
   "metadata": {},
   "outputs": [
    {
     "name": "stdout",
     "output_type": "stream",
     "text": [
      "[[124  17]\n",
      " [ 31  28]]\n",
      "              precision    recall  f1-score   support\n",
      "\n",
      "           0       0.80      0.88      0.84       141\n",
      "           1       0.62      0.47      0.54        59\n",
      "\n",
      "    accuracy                           0.76       200\n",
      "   macro avg       0.71      0.68      0.69       200\n",
      "weighted avg       0.75      0.76      0.75       200\n",
      "\n",
      "Accuracy of the model on Testing Sample Data: 0.75\n",
      "\n",
      "Accuracy values for 10-fold Cross Validation:\n",
      " [0.67690925 0.66403326 0.70857074 0.72702703 0.68509385 0.69011858\n",
      " 0.70857074 0.74604343 0.73944295 0.73438735]\n",
      "\n",
      "Final Average Accuracy of the model: 0.71\n"
     ]
    }
   ],
   "source": [
    "# Creating the model on Training Data\n",
    "\n",
    "DT=model.fit(X_train,y_train)\n",
    "\n",
    "# Measuring accuracy on Testing Data\n",
    "prediction=DT.predict(X_test)\n",
    "from sklearn import metrics\n",
    "print(metrics.confusion_matrix(y_test, prediction))\n",
    "print(metrics.classification_report(y_test, prediction))\n",
    "\n",
    "\n",
    "# Printing the Overall Accuracy of the model\n",
    "F1_Score=metrics.f1_score(y_test, prediction, average='weighted')\n",
    "print('Accuracy of the model on Testing Sample Data:', round(F1_Score,2))\n",
    "\n",
    "from sklearn.model_selection import cross_val_score\n",
    "\n",
    "# Passing full data X and y because the K-fold will split the data and automatically choose train/test\n",
    "Accuracy_Values=cross_val_score(DT, X , y, cv=10, scoring='f1_weighted')\n",
    "print('\\nAccuracy values for 10-fold Cross Validation:\\n',Accuracy_Values)\n",
    "print('\\nFinal Average Accuracy of the model:', round(Accuracy_Values.mean(),2))"
   ]
  },
  {
   "cell_type": "code",
   "execution_count": 51,
   "id": "6e971f84",
   "metadata": {},
   "outputs": [
    {
     "data": {
      "text/plain": [
       "<AxesSubplot:>"
      ]
     },
     "execution_count": 51,
     "metadata": {},
     "output_type": "execute_result"
    },
    {
     "data": {
      "image/png": "[encoded data removed]",
      "text/plain": [
       "<Figure size 432x288 with 1 Axes>"
      ]
     },
     "metadata": {
      "needs_background": "light"
     },
     "output_type": "display_data"
    }
   ],
   "source": [
    "# Plotting the feature importance for Top 10 most important columns\n",
    "%matplotlib inline\n",
    "\n",
    "feature_importances = pd.Series(DT.feature_importances_, index=Predictors)\n",
    "feature_importances.nlargest(10).plot(kind='barh')"
   ]
  },
  {
   "cell_type": "markdown",
   "id": "27f6da8b-a956-4b6a-8589-57d425831625",
   "metadata": {},
   "source": [
    "# Random Forest"
   ]
  },
  {
   "cell_type": "code",
   "execution_count": 52,
   "id": "ba9b7d72",
   "metadata": {},
   "outputs": [
    {
     "name": "stdout",
     "output_type": "stream",
     "text": [
      "[[134   7]\n",
      " [ 38  21]]\n",
      "              precision    recall  f1-score   support\n",
      "\n",
      "           0       0.78      0.95      0.86       141\n",
      "           1       0.75      0.36      0.48        59\n",
      "\n",
      "    accuracy                           0.78       200\n",
      "   macro avg       0.76      0.65      0.67       200\n",
      "weighted avg       0.77      0.78      0.75       200\n",
      "\n",
      "Accuracy of the model on Testing Sample Data: 0.75\n",
      "\n",
      "Accuracy values for 10-fold Cross Validation:\n",
      " [0.7917953  0.6835711  0.69011858 0.7427957  0.74538879 0.69899666\n",
      " 0.66013192 0.76987902 0.67569892 0.75256116]\n",
      "\n",
      "Final Average Accuracy of the model: 0.72\n"
     ]
    }
   ],
   "source": [
    "from sklearn.ensemble import RandomForestClassifier\n",
    "model=RandomForestClassifier(n_estimators=100,criterion='gini',max_depth=8)\n",
    "\n",
    "# Creating the model on Training Data\n",
    "RF=model.fit(X_train,y_train)\n",
    "\n",
    "# Measuring accuracy on Testing Data\n",
    "prediction=RF.predict(X_test)\n",
    "from sklearn import metrics\n",
    "print(metrics.confusion_matrix(y_test, prediction))\n",
    "print(metrics.classification_report(y_test, prediction))\n",
    "\n",
    "# Printing the Overall Accuracy of the model\n",
    "F1_Score=metrics.f1_score(y_test, prediction, average='weighted')\n",
    "print('Accuracy of the model on Testing Sample Data:', round(F1_Score,2))\n",
    "\n",
    "# Importing cross validation function from sklearn\n",
    "from sklearn.model_selection import cross_val_score\n",
    "Accuracy_Values=cross_val_score(RF,X,y,scoring='f1_weighted',cv=10)\n",
    "\n",
    "print('\\nAccuracy values for 10-fold Cross Validation:\\n',Accuracy_Values)\n",
    "print('\\nFinal Average Accuracy of the model:', round(Accuracy_Values.mean(),2))"
   ]
  },
  {
   "cell_type": "markdown",
   "id": "7d89f747-fb1a-4f1e-9201-96a3bb9b8dd1",
   "metadata": {},
   "source": [
    "# AdaBoost"
   ]
  },
  {
   "cell_type": "code",
   "execution_count": 67,
   "id": "8370b041",
   "metadata": {},
   "outputs": [
    {
     "name": "stdout",
     "output_type": "stream",
     "text": [
      "              precision    recall  f1-score   support\n",
      "\n",
      "           0       0.84      0.90      0.87       141\n",
      "           1       0.71      0.58      0.64        59\n",
      "\n",
      "    accuracy                           0.81       200\n",
      "   macro avg       0.77      0.74      0.75       200\n",
      "weighted avg       0.80      0.81      0.80       200\n",
      "\n",
      "[[127  14]\n",
      " [ 25  34]]\n",
      "Accuracy of the model on Testing Sample Data: 0.8\n"
     ]
    }
   ],
   "source": [
    "# adaboost\n",
    "from sklearn.ensemble import AdaBoostClassifier\n",
    "from sklearn.tree import DecisionTreeClassifier\n",
    "\n",
    "DT= DecisionTreeClassifier( criterion='gini', max_depth=5)\n",
    "model=AdaBoostClassifier(n_estimators=150,learning_rate=1.0,base_estimator=DT)\n",
    "ADB=model.fit(X_train,y_train)\n",
    "prediction=ADB.predict(X_test)\n",
    "\n",
    "from sklearn import metrics\n",
    "print(metrics.classification_report(y_test, prediction))\n",
    "print(metrics.confusion_matrix(y_test, prediction))\n",
    "\n",
    "# Printing the Overall Accuracy of the model\n",
    "F1_Score=metrics.f1_score(y_test, prediction, average='weighted')\n",
    "print('Accuracy of the model on Testing Sample Data:', round(F1_Score,2))\n"
   ]
  },
  {
   "cell_type": "code",
   "execution_count": 68,
   "id": "8e745ade",
   "metadata": {},
   "outputs": [
    {
     "name": "stdout",
     "output_type": "stream",
     "text": [
      "\n",
      "Accuracy values for 10-fold Cross Validation:\n",
      " [0.77407758 0.69125    0.65333333 0.72266667 0.72867133 0.69899666\n",
      " 0.63822844 0.77865613 0.69124574 0.75256116]\n",
      "\n",
      "Final Average Accuracy of the model: 0.71\n"
     ]
    }
   ],
   "source": [
    "from sklearn.model_selection import cross_val_score\n",
    "Accuracy_Values=cross_val_score(RF,X,y,scoring='f1_weighted',cv=10)\n",
    "\n",
    "print('\\nAccuracy values for 10-fold Cross Validation:\\n',Accuracy_Values)\n",
    "print('\\nFinal Average Accuracy of the model:', round(Accuracy_Values.mean(),2))"
   ]
  },
  {
   "cell_type": "markdown",
   "id": "d215be66-e7b0-4d01-97eb-60457d09d23f",
   "metadata": {},
   "source": [
    "# XGBoost"
   ]
  },
  {
   "cell_type": "code",
   "execution_count": 69,
   "id": "d6247747",
   "metadata": {},
   "outputs": [
    {
     "name": "stdout",
     "output_type": "stream",
     "text": [
      "              precision    recall  f1-score   support\n",
      "\n",
      "           0       0.83      0.92      0.87       141\n",
      "           1       0.74      0.54      0.63        59\n",
      "\n",
      "    accuracy                           0.81       200\n",
      "   macro avg       0.79      0.73      0.75       200\n",
      "weighted avg       0.80      0.81      0.80       200\n",
      "\n",
      "[[130  11]\n",
      " [ 27  32]]\n",
      "Accuracy of the model on Testing Sample Data: 0.8\n"
     ]
    }
   ],
   "source": [
    "# XG boost\n",
    "from xgboost import XGBClassifier\n",
    "from sklearn.tree import DecisionTreeClassifier\n",
    "\n",
    "DT= DecisionTreeClassifier( criterion='gini', max_depth=6)\n",
    "model=XGBClassifier(max_depth=8, learning_rate=0.1, n_estimators=150, objective='binary:logistic', booster='gbtree')\n",
    "XGB=model.fit(X_train,y_train)\n",
    "prediction=XGB.predict(X_test)\n",
    "\n",
    "from sklearn import metrics\n",
    "print(metrics.classification_report(y_test, prediction))\n",
    "print(metrics.confusion_matrix(y_test, prediction))\n",
    "\n",
    "# Printing the Overall Accuracy of the model\n",
    "F1_Score=metrics.f1_score(y_test, prediction, average='weighted')\n",
    "print('Accuracy of the model on Testing Sample Data:', round(F1_Score,2))"
   ]
  },
  {
   "cell_type": "code",
   "execution_count": 70,
   "id": "cc9a20d8",
   "metadata": {},
   "outputs": [
    {
     "name": "stdout",
     "output_type": "stream",
     "text": [
      "\n",
      "Accuracy values for 10-fold Cross Validation:\n",
      " [0.80460526 0.63669274 0.75256116 0.72043011 0.70701028 0.69899666\n",
      " 0.62965642 0.83862684 0.68344988 0.77865613]\n",
      "\n",
      "Final Average Accuracy of the model: 0.73\n"
     ]
    }
   ],
   "source": [
    "from sklearn.model_selection import cross_val_score\n",
    "Accuracy_Values=cross_val_score(RF,X,y,scoring='f1_weighted',cv=10)\n",
    "\n",
    "print('\\nAccuracy values for 10-fold Cross Validation:\\n',Accuracy_Values)\n",
    "print('\\nFinal Average Accuracy of the model:', round(Accuracy_Values.mean(),2))"
   ]
  },
  {
   "cell_type": "code",
   "execution_count": null,
   "id": "5b0fe09d",
   "metadata": {},
   "outputs": [],
   "source": []
  }
 ],
 "metadata": {
  "kernelspec": {
   "display_name": "Python 3 (ipykernel)",
   "language": "python",
   "name": "python3"
  },
  "language_info": {
   "codemirror_mode": {
    "name": "ipython",
    "version": 3
   },
   "file_extension": ".py",
   "mimetype": "text/x-python",
   "name": "python",
   "nbconvert_exporter": "python",
   "pygments_lexer": "ipython3",
   "version": "3.9.12"
  }
 },
 "nbformat": 4,
 "nbformat_minor": 5
}
